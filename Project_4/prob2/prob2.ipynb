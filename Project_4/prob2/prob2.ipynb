{
  "nbformat": 4,
  "nbformat_minor": 0,
  "metadata": {
    "colab": {
      "provenance": [],
      "gpuType": "T4",
      "authorship_tag": "ABX9TyOCVsDzBV8fWZpFu42EdmAD"
    },
    "kernelspec": {
      "name": "python3",
      "display_name": "Python 3"
    },
    "language_info": {
      "name": "python"
    },
    "accelerator": "GPU"
  },
  "cells": [
    {
      "cell_type": "code",
      "execution_count": 1,
      "metadata": {
        "id": "ciVJtBkty4bX",
        "colab": {
          "base_uri": "https://localhost:8080/"
        },
        "outputId": "59e570f8-324a-4cb6-bd38-0030646b9291"
      },
      "outputs": [
        {
          "output_type": "stream",
          "name": "stdout",
          "text": [
            "Writing thrust_ex.cu\n"
          ]
        }
      ],
      "source": [
        "%%writefile thrust_ex.cu\n",
        "#include <thrust/host_vector.h>\n",
        "#include <thrust/device_vector.h>\n",
        "#include <thrust/transform_reduce.h>\n",
        "#include <thrust/functional.h>\n",
        "#include <thrust/iterator/counting_iterator.h>\n",
        "#include <iostream>\n",
        "#include <cuda_runtime.h>\n",
        "\n",
        "// Function f(x) = 4.0 / (1 + x*x)\n",
        "struct functor {\n",
        "    __host__ __device__\n",
        "    float operator()(const float& x) const {\n",
        "        return 4.0 / (1.0 + x * x);\n",
        "    }\n",
        "};\n",
        "\n",
        "// Function to be applied in transform_reduce\n",
        "struct integral_functor {\n",
        "    float dx;\n",
        "    functor f;\n",
        "\n",
        "    integral_functor(float _dx) : dx(_dx) {}\n",
        "\n",
        "    __host__ __device__\n",
        "    float operator()(const int& i) const {\n",
        "        float x = (i + 0.5f) * dx;\n",
        "        return f(x) * dx;\n",
        "    }\n",
        "};\n",
        "\n",
        "int main() {\n",
        "    const int N = 1000000000;\n",
        "    const float dx = 1.0f / N;\n",
        "\n",
        "    thrust::counting_iterator<int> begin(0);\n",
        "    thrust::counting_iterator<int> end(N);\n",
        "\n",
        "    float integral = thrust::transform_reduce(\n",
        "        begin, end,\n",
        "        integral_functor(dx),\n",
        "        0.0f,\n",
        "        thrust::plus<float>()\n",
        "    );\n",
        "\n",
        "    std::cout << \"Approximate integral: \" << integral << std::endl;\n",
        "\n",
        "    return 0;\n",
        "}\n"
      ]
    },
    {
      "cell_type": "code",
      "source": [
        "!nvcc thrust_ex.cu -o thrust_ex\n",
        "!./thrust_ex"
      ],
      "metadata": {
        "colab": {
          "base_uri": "https://localhost:8080/"
        },
        "id": "WpZEUfA9lM5y",
        "outputId": "93f610c9-9cc9-4a8c-c105-b81b7bc5fb19"
      },
      "execution_count": 2,
      "outputs": [
        {
          "output_type": "stream",
          "name": "stdout",
          "text": [
            "Approximate integral: 3.14159\n"
          ]
        }
      ]
    }
  ]
}