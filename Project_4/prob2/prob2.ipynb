{
  "nbformat": 4,
  "nbformat_minor": 0,
  "metadata": {
    "colab": {
      "provenance": [],
      "gpuType": "T4",
      "authorship_tag": "ABX9TyMv/wq6xH1jfXmETkvz2ldV",
      "include_colab_link": true
    },
    "kernelspec": {
      "name": "python3",
      "display_name": "Python 3"
    },
    "language_info": {
      "name": "python"
    },
    "accelerator": "GPU"
  },
  "cells": [
    {
      "cell_type": "markdown",
      "metadata": {
        "id": "view-in-github",
        "colab_type": "text"
      },
      "source": [
        "<a href=\"https://colab.research.google.com/github/yymin1022/MCC_Assignments/blob/main/Project_4/prob2/prob2.ipynb\" target=\"_parent\"><img src=\"https://colab.research.google.com/assets/colab-badge.svg\" alt=\"Open In Colab\"/></a>"
      ]
    },
    {
      "cell_type": "code",
      "execution_count": 3,
      "metadata": {
        "id": "ciVJtBkty4bX",
        "colab": {
          "base_uri": "https://localhost:8080/"
        },
        "outputId": "b6e78c5f-1592-4def-cc7c-e9963697bef1"
      },
      "outputs": [
        {
          "output_type": "stream",
          "name": "stdout",
          "text": [
            "Overwriting thrust_ex.cu\n"
          ]
        }
      ],
      "source": [
        "%%writefile thrust_ex.cu\n",
        "#include <thrust/host_vector.h>\n",
        "#include <thrust/device_vector.h>\n",
        "#include <thrust/transform_reduce.h>\n",
        "#include <thrust/functional.h>\n",
        "#include <thrust/iterator/counting_iterator.h>\n",
        "#include <iostream>\n",
        "#include <cuda_runtime.h>\n",
        "\n",
        "// Function f(x) = 4.0 / (1 + x*x)\n",
        "struct functor {\n",
        "    __host__ __device__\n",
        "    float operator()(const float& x) const {\n",
        "        return 4.0 / (1.0 + x * x);\n",
        "    }\n",
        "};\n",
        "\n",
        "// Function to be applied in transform_reduce\n",
        "struct integral_functor {\n",
        "    float dx;\n",
        "    functor f;\n",
        "\n",
        "    integral_functor(float _dx) : dx(_dx) {}\n",
        "\n",
        "    __host__ __device__\n",
        "    float operator()(const int& i) const {\n",
        "        float x = (i + 0.5f) * dx;\n",
        "        return f(x) * dx;\n",
        "    }\n",
        "};\n",
        "\n",
        "int main() {\n",
        "    const int N = 1000000000;\n",
        "    const float dx = 1.0f / N;\n",
        "\n",
        "    thrust::counting_iterator<int> begin(0);\n",
        "    thrust::counting_iterator<int> end(N);\n",
        "\n",
        "    cudaEvent_t time_start, time_stop;\n",
        "    cudaEventCreate(&time_start);\n",
        "    cudaEventCreate(&time_stop);\n",
        "\n",
        "    cudaEventRecord(time_start, 0);\n",
        "\n",
        "    float integral = thrust::transform_reduce(\n",
        "        begin, end,\n",
        "        integral_functor(dx),\n",
        "        0.0f,\n",
        "        thrust::plus<float>()\n",
        "    );\n",
        "\n",
        "    cudaEventRecord(time_stop, 0);\n",
        "    cudaEventSynchronize(time_stop);\n",
        "\n",
        "    float time_elapsed = 0;\n",
        "    cudaEventElapsedTime(&time_elapsed, time_start, time_stop);\n",
        "\n",
        "    std::cout << \"Approximate integral: \" << integral << std::endl;\n",
        "    std::cout << \"Elapsed time: \" << time_elapsed << \" ms\" << std::endl;\n",
        "\n",
        "    return 0;\n",
        "}\n"
      ]
    },
    {
      "cell_type": "code",
      "source": [
        "!nvcc thrust_ex.cu -o thrust_ex\n",
        "!./thrust_ex"
      ],
      "metadata": {
        "colab": {
          "base_uri": "https://localhost:8080/"
        },
        "id": "WpZEUfA9lM5y",
        "outputId": "d512955c-f107-43f0-bd02-e1d304f53e0f"
      },
      "execution_count": 4,
      "outputs": [
        {
          "output_type": "stream",
          "name": "stdout",
          "text": [
            "Approximate integral: 3.14159\n",
            "Elapsed time: 244.037 ms\n"
          ]
        }
      ]
    }
  ]
}