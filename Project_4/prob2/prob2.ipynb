{
  "nbformat": 4,
  "nbformat_minor": 0,
  "metadata": {
    "colab": {
      "provenance": [],
      "authorship_tag": "ABX9TyPAzdwKIAl+4onjYUtizgDR",
      "include_colab_link": true
    },
    "kernelspec": {
      "name": "python3",
      "display_name": "Python 3"
    },
    "language_info": {
      "name": "python"
    }
  },
  "cells": [
    {
      "cell_type": "markdown",
      "metadata": {
        "id": "view-in-github",
        "colab_type": "text"
      },
      "source": [
        "<a href=\"https://colab.research.google.com/github/yymin1022/MCC_Assignments/blob/main/Project_4/prob2/prob2.ipynb\" target=\"_parent\"><img src=\"https://colab.research.google.com/assets/colab-badge.svg\" alt=\"Open In Colab\"/></a>"
      ]
    },
    {
      "cell_type": "code",
      "execution_count": null,
      "metadata": {
        "id": "ciVJtBkty4bX"
      },
      "outputs": [],
      "source": [
        "%%writefile thrust_ex.cu\n",
        "#include <stdio.h>\n",
        "#include <assert.h>\n",
        "#include <cuda.h>\n",
        "#include <cuda_runtime.h>\n",
        "\n",
        "__global__ void test(){\n",
        "    printf(\"Hi Cuda World\\n\");\n",
        "}\n",
        "\n",
        "int main( int argc, char** argv )\n",
        "{\n",
        "    test<<<1,8>>>();\n",
        "    cudaDeviceSynchronize();\n",
        "    return 0;\n",
        "}\n"
      ]
    },
    {
      "cell_type": "code",
      "source": [
        "!nvcc thrust_ex.cu -o thrust_ex\n",
        "!./thrust_ex"
      ],
      "metadata": {
        "id": "WpZEUfA9lM5y"
      },
      "execution_count": 9,
      "outputs": []
    }
  ]
}