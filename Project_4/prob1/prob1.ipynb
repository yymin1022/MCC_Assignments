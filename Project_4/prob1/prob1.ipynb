{
  "nbformat": 4,
  "nbformat_minor": 0,
  "metadata": {
    "colab": {
      "provenance": [],
      "gpuType": "T4",
      "authorship_tag": "ABX9TyME1OKvh8DXVql/QSK9PYFb"
    },
    "kernelspec": {
      "name": "python3",
      "display_name": "Python 3"
    },
    "language_info": {
      "name": "python"
    },
    "accelerator": "GPU"
  },
  "cells": [
    {
      "cell_type": "code",
      "execution_count": null,
      "metadata": {
        "colab": {
          "base_uri": "https://localhost:8080/"
        },
        "id": "gu3xtGntmwJm",
        "outputId": "40246b6b-26fe-4401-f5c1-2ef3f952bcf8"
      },
      "outputs": [
        {
          "output_type": "stream",
          "name": "stdout",
          "text": [
            "Writing test_cuda.cu\n"
          ]
        }
      ],
      "source": [
        "%%writefile test_cuda.cu\n",
        "#include <stdio.h>\n",
        "#include <assert.h>\n",
        "#include <cuda.h>\n",
        "#include <cuda_runtime.h>\n",
        "\n",
        "__global__ void test(){\n",
        "    printf(\"Hi Cuda World\\n\");\n",
        "}\n",
        "\n",
        "int main( int argc, char** argv )\n",
        "{\n",
        "    test<<<1,8>>>();\n",
        "    cudaDeviceSynchronize();\n",
        "    return 0;\n",
        "}\n"
      ]
    },
    {
      "cell_type": "code",
      "source": [
        "!nvcc test_cuda.cu"
      ],
      "metadata": {
        "id": "H8Utvr1fvTtx"
      },
      "execution_count": null,
      "outputs": []
    },
    {
      "cell_type": "code",
      "source": [
        "!./a.out"
      ],
      "metadata": {
        "id": "Kv8oLHLzvmWN",
        "outputId": "4e57a2c2-d1ae-4cc6-fa85-4783d32efd18",
        "colab": {
          "base_uri": "https://localhost:8080/"
        }
      },
      "execution_count": null,
      "outputs": [
        {
          "output_type": "stream",
          "name": "stdout",
          "text": [
            "Hi Cuda World\n",
            "Hi Cuda World\n",
            "Hi Cuda World\n",
            "Hi Cuda World\n",
            "Hi Cuda World\n",
            "Hi Cuda World\n",
            "Hi Cuda World\n",
            "Hi Cuda World\n"
          ]
        }
      ]
    }
  ]
}