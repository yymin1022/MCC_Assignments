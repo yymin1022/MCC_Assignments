{
  "nbformat": 4,
  "nbformat_minor": 0,
  "metadata": {
    "colab": {
      "provenance": [],
      "gpuType": "T4",
      "authorship_tag": "ABX9TyOH35HbvstB/aa735/qpbpE"
    },
    "kernelspec": {
      "name": "python3",
      "display_name": "Python 3"
    },
    "language_info": {
      "name": "python"
    },
    "accelerator": "GPU"
  },
  "cells": [
    {
      "cell_type": "code",
      "source": [
        "%%writefile original_ray.cpp\n",
        "#include <stdio.h>\n",
        "#include <string.h>\n",
        "#include <stdlib.h>\n",
        "#include <time.h>\n",
        "#include <math.h>\n",
        "\n",
        "#define CUDA 0\n",
        "#define OPENMP 1\n",
        "#define SPHERES 20\n",
        "\n",
        "#define rnd( x ) (x * rand() / RAND_MAX)\n",
        "#define INF 2e10f\n",
        "#define DIM 2048\n",
        "\n",
        "struct Sphere {\n",
        "    float   r,b,g;\n",
        "    float   radius;\n",
        "    float   x,y,z;\n",
        "    float hit( float ox, float oy, float *n ) {\n",
        "        float dx = ox - x;\n",
        "        float dy = oy - y;\n",
        "        if (dx*dx + dy*dy < radius*radius) {\n",
        "            float dz = sqrtf( radius*radius - dx*dx - dy*dy );\n",
        "            *n = dz / sqrtf( radius * radius );\n",
        "            return dz + z;\n",
        "        }\n",
        "        return -INF;\n",
        "    }\n",
        "};\n",
        "\n",
        "void kernel(int x, int y, Sphere* s, unsigned char* ptr)\n",
        "{\n",
        "\tint offset = x + y*DIM;\n",
        "\tfloat ox = (x - DIM/2);\n",
        "\tfloat oy = (y - DIM/2);\n",
        "\n",
        "\t//printf(\"x:%d, y:%d, ox:%f, oy:%f\\n\",x,y,ox,oy);\n",
        "\n",
        "\tfloat r=0, g=0, b=0;\n",
        "\tfloat   maxz = -INF;\n",
        "\tfor(int i=0; i<SPHERES; i++) {\n",
        "\t\tfloat   n;\n",
        "\t\tfloat   t = s[i].hit( ox, oy, &n );\n",
        "\t\tif (t > maxz) {\n",
        "\t\t\tfloat fscale = n;\n",
        "\t\t\tr = s[i].r * fscale;\n",
        "\t\t\tg = s[i].g * fscale;\n",
        "\t\t\tb = s[i].b * fscale;\n",
        "\t\t\tmaxz = t;\n",
        "\t\t}\n",
        "\t}\n",
        "\n",
        "\tptr[offset*4 + 0] = (int)(r * 255);\n",
        "\tptr[offset*4 + 1] = (int)(g * 255);\n",
        "\tptr[offset*4 + 2] = (int)(b * 255);\n",
        "\tptr[offset*4 + 3] = 255;\n",
        "}\n",
        "\n",
        "void ppm_write(unsigned char* bitmap, int xdim,int ydim, FILE* fp)\n",
        "{\n",
        "\tint i,x,y;\n",
        "\tfprintf(fp,\"P3\\n\");\n",
        "\tfprintf(fp,\"%d %d\\n\",xdim, ydim);\n",
        "\tfprintf(fp,\"255\\n\");\n",
        "\tfor (y=0;y<ydim;y++) {\n",
        "\t\tfor (x=0;x<xdim;x++) {\n",
        "\t\t\ti=x+y*xdim;\n",
        "\t\t\tfprintf(fp,\"%d %d %d \",bitmap[4*i],bitmap[4*i+1],bitmap[4*i+2]);\n",
        "\t\t}\n",
        "\t\tfprintf(fp,\"\\n\");\n",
        "\t}\n",
        "}\n",
        "\n",
        "int main(int argc, char* argv[])\n",
        "{\n",
        "\tint no_threads;\n",
        "\tint option;\n",
        "\tint x,y;\n",
        "\tunsigned char* bitmap;\n",
        "\n",
        "\tsrand(time(NULL));\n",
        "\n",
        "\tif (argc!=3) {\n",
        "\t\tprintf(\"> a.out [option] [filename.ppm]\\n\");\n",
        "\t\tprintf(\"[option] 0: CUDA, 1~16: OpenMP using 1~16 threads\\n\");\n",
        "\t\tprintf(\"for example, '> a.out 8 result.ppm' means executing OpenMP with 8 threads\\n\");\n",
        "\t\texit(0);\n",
        "\t}\n",
        "\tFILE* fp = fopen(argv[2],\"w\");\n",
        "\n",
        "\tif (strcmp(argv[1],\"0\")==0) option=CUDA;\n",
        "\telse {\n",
        "\t\toption=OPENMP;\n",
        "\t\tno_threads=atoi(argv[1]);\n",
        "\t}\n",
        "\n",
        "\tSphere *temp_s = (Sphere*)malloc( sizeof(Sphere) * SPHERES );\n",
        "\tfor (int i=0; i<SPHERES; i++) {\n",
        "\t\ttemp_s[i].r = rnd( 1.0f );\n",
        "\t\ttemp_s[i].g = rnd( 1.0f );\n",
        "\t\ttemp_s[i].b = rnd( 1.0f );\n",
        "\t\ttemp_s[i].x = rnd( 2000.0f ) - 1000;\n",
        "\t\ttemp_s[i].y = rnd( 2000.0f ) - 1000;\n",
        "\t\ttemp_s[i].z = rnd( 2000.0f ) - 1000;\n",
        "\t\ttemp_s[i].radius = rnd( 200.0f ) + 40;\n",
        "\t}\n",
        "\n",
        "\tbitmap=(unsigned char*)malloc(sizeof(unsigned char)*DIM*DIM*4);\n",
        "\tfor (x=0;x<DIM;x++)\n",
        "\t\tfor (y=0;y<DIM;y++) kernel(x,y,temp_s,bitmap);\n",
        "\tppm_write(bitmap,DIM,DIM,fp);\n",
        "\n",
        "\tfclose(fp);\n",
        "\tfree(bitmap);\n",
        "\tfree(temp_s);\n",
        "\n",
        "\treturn 0;\n",
        "}"
      ],
      "metadata": {
        "colab": {
          "base_uri": "https://localhost:8080/"
        },
        "id": "gSYT_OepUBVk",
        "outputId": "9cbe9b9c-2bb2-40b8-e4ee-65da99a57f82"
      },
      "execution_count": 1,
      "outputs": [
        {
          "output_type": "stream",
          "name": "stdout",
          "text": [
            "Writing original_ray.cpp\n"
          ]
        }
      ]
    },
    {
      "cell_type": "code",
      "source": [
        "!g++ original_ray.cpp -o original_ray\n",
        "!./original_ray 2 result.ppm"
      ],
      "metadata": {
        "id": "DS5MqEwuUbbP"
      },
      "execution_count": 5,
      "outputs": []
    },
    {
      "cell_type": "code",
      "execution_count": null,
      "metadata": {
        "colab": {
          "base_uri": "https://localhost:8080/"
        },
        "id": "gu3xtGntmwJm",
        "outputId": "1f7343f2-2ae4-42ec-ad61-bfd5e19276c0"
      },
      "outputs": [
        {
          "output_type": "stream",
          "name": "stdout",
          "text": [
            "Writing cuda_ray.cu\n"
          ]
        }
      ],
      "source": [
        "%%writefile cuda_ray.cu\n",
        "#include <stdio.h>\n",
        "#include <assert.h>\n",
        "#include <cuda.h>\n",
        "#include <cuda_runtime.h>\n",
        "\n",
        "__global__ void test(){\n",
        "    printf(\"Hi Cuda World\\n\");\n",
        "}\n",
        "\n",
        "int main( int argc, char** argv )\n",
        "{\n",
        "    test<<<1,8>>>();\n",
        "    cudaDeviceSynchronize();\n",
        "    return 0;\n",
        "}\n"
      ]
    },
    {
      "cell_type": "code",
      "source": [
        "!nvcc cuda_ray.cu -o cuda_ray\n",
        "!./cuda_ray"
      ],
      "metadata": {
        "id": "H8Utvr1fvTtx",
        "outputId": "4988f733-54ae-47f0-aa56-258cc804058c",
        "colab": {
          "base_uri": "https://localhost:8080/"
        }
      },
      "execution_count": null,
      "outputs": [
        {
          "output_type": "stream",
          "name": "stdout",
          "text": [
            "Hi Cuda World\n",
            "Hi Cuda World\n",
            "Hi Cuda World\n",
            "Hi Cuda World\n",
            "Hi Cuda World\n",
            "Hi Cuda World\n",
            "Hi Cuda World\n",
            "Hi Cuda World\n"
          ]
        }
      ]
    }
  ]
}