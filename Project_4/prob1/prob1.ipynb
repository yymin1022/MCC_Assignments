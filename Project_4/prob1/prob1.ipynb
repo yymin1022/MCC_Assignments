{
  "nbformat": 4,
  "nbformat_minor": 0,
  "metadata": {
    "colab": {
      "provenance": [],
      "gpuType": "T4",
      "authorship_tag": "ABX9TyO+BvJLAl5CCQ6Le3Vcya4K"
    },
    "kernelspec": {
      "name": "python3",
      "display_name": "Python 3"
    },
    "language_info": {
      "name": "python"
    },
    "accelerator": "GPU"
  },
  "cells": [
    {
      "cell_type": "code",
      "execution_count": 2,
      "metadata": {
        "colab": {
          "base_uri": "https://localhost:8080/"
        },
        "id": "gu3xtGntmwJm",
        "outputId": "1f7343f2-2ae4-42ec-ad61-bfd5e19276c0"
      },
      "outputs": [
        {
          "output_type": "stream",
          "name": "stdout",
          "text": [
            "Writing cuda_ray.cu\n"
          ]
        }
      ],
      "source": [
        "%%writefile cuda_ray.cu\n",
        "#include <stdio.h>\n",
        "#include <assert.h>\n",
        "#include <cuda.h>\n",
        "#include <cuda_runtime.h>\n",
        "\n",
        "__global__ void test(){\n",
        "    printf(\"Hi Cuda World\\n\");\n",
        "}\n",
        "\n",
        "int main( int argc, char** argv )\n",
        "{\n",
        "    test<<<1,8>>>();\n",
        "    cudaDeviceSynchronize();\n",
        "    return 0;\n",
        "}\n"
      ]
    },
    {
      "cell_type": "code",
      "source": [
        "!nvcc cuda_ray.cu -o cuda_ray\n",
        "!./cuda_ray"
      ],
      "metadata": {
        "id": "H8Utvr1fvTtx",
        "outputId": "4988f733-54ae-47f0-aa56-258cc804058c",
        "colab": {
          "base_uri": "https://localhost:8080/"
        }
      },
      "execution_count": 3,
      "outputs": [
        {
          "output_type": "stream",
          "name": "stdout",
          "text": [
            "Hi Cuda World\n",
            "Hi Cuda World\n",
            "Hi Cuda World\n",
            "Hi Cuda World\n",
            "Hi Cuda World\n",
            "Hi Cuda World\n",
            "Hi Cuda World\n",
            "Hi Cuda World\n"
          ]
        }
      ]
    }
  ]
}